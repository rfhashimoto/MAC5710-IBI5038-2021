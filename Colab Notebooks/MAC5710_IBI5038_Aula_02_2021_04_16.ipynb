{
  "nbformat": 4,
  "nbformat_minor": 0,
  "metadata": {
    "colab": {
      "name": "MAC5710_IBI5038_Aula_02_2021-04-16.ipynb",
      "provenance": [],
      "collapsed_sections": []
    },
    "kernelspec": {
      "name": "python3",
      "display_name": "Python 3"
    },
    "language_info": {
      "name": "python"
    }
  },
  "cells": [
    {
      "cell_type": "markdown",
      "metadata": {
        "id": "r9u1oMTA2z1Z"
      },
      "source": [
        "# Strings"
      ]
    },
    {
      "cell_type": "code",
      "metadata": {
        "colab": {
          "base_uri": "https://localhost:8080/"
        },
        "id": "CDFQ-qwy26fK",
        "outputId": "cb4bb7d5-f01a-407b-80b3-63fc2e941918"
      },
      "source": [
        "a = \"Hello, \"\n",
        "b = \"World\"\n",
        "print ('\"' + a + '\" + \"' + b + '\"' + ' = ' + '\"' + a + b + '\"')"
      ],
      "execution_count": 8,
      "outputs": [
        {
          "output_type": "stream",
          "text": [
            "\"Hello, \" + \"World\" = \"Hello, World\"\n"
          ],
          "name": "stdout"
        }
      ]
    },
    {
      "cell_type": "code",
      "metadata": {
        "colab": {
          "base_uri": "https://localhost:8080/"
        },
        "id": "3TAWQPBx4VYb",
        "outputId": "a2e48517-e4be-4fb5-bbe7-d5870588828b"
      },
      "source": [
        "a = '\"Hello, \"'\n",
        "b = '\"World\"'\n",
        "print (a + ' + ' + b + ' = ' + a + b)"
      ],
      "execution_count": 12,
      "outputs": [
        {
          "output_type": "stream",
          "text": [
            "\"Hello, \" + \"World\" = \"Hello, \"\"World\"\n"
          ],
          "name": "stdout"
        }
      ]
    },
    {
      "cell_type": "markdown",
      "metadata": {
        "id": "FArSF6gE5KVh"
      },
      "source": [
        "# Integers"
      ]
    },
    {
      "cell_type": "code",
      "metadata": {
        "id": "PJmsNV6M4wGi"
      },
      "source": [
        "a = 1234\n",
        "b = 5"
      ],
      "execution_count": null,
      "outputs": []
    },
    {
      "cell_type": "code",
      "metadata": {
        "id": "pOSrnVQW4_Hs"
      },
      "source": [
        "total = a + b\n",
        "diff  = a - b\n",
        "prod  = a * b\n",
        "quot  = a // b\n",
        "rem   = a % b\n",
        "exp   = a ** b"
      ],
      "execution_count": null,
      "outputs": []
    },
    {
      "cell_type": "code",
      "metadata": {
        "colab": {
          "base_uri": "https://localhost:8080/"
        },
        "id": "I9MU9Q0t4alP",
        "outputId": "5039df0d-78a8-41f9-fdf6-f089727bedb6"
      },
      "source": [
        "print(str(a) + ' +  ' + str(b) + ' = ' + str(total))\n",
        "print(str(a) + ' -  ' + str(b) + ' = ' + str(diff))\n",
        "print(str(a) + ' *  ' + str(b) + ' = ' + str(prod))\n",
        "print(str(a) + ' // ' + str(b) + ' = ' + str(quot))\n",
        "print(str(a) + ' %  ' + str(b) + ' = ' + str(rem))\n",
        "print(str(a) + ' ** ' + str(b) + ' = ' + str(exp))"
      ],
      "execution_count": null,
      "outputs": [
        {
          "output_type": "stream",
          "text": [
            "1234 +  5 = 1239\n",
            "1234 -  5 = 1229\n",
            "1234 *  5 = 6170\n",
            "1234 // 5 = 246\n",
            "1234 %  5 = 4\n",
            "1234 ** 5 = 2861381721051424\n"
          ],
          "name": "stdout"
        }
      ]
    },
    {
      "cell_type": "markdown",
      "metadata": {
        "id": "C5BZ1Kaa4yKb"
      },
      "source": [
        "# Float operators"
      ]
    },
    {
      "cell_type": "code",
      "metadata": {
        "id": "_M160mBO4z3I"
      },
      "source": [
        "a = 123.456\n",
        "b = 78.9"
      ],
      "execution_count": null,
      "outputs": []
    },
    {
      "cell_type": "code",
      "metadata": {
        "id": "8-eGeVxj7cFV"
      },
      "source": [
        "total = a + b\n",
        "diff  = a - b\n",
        "prod  = a * b\n",
        "quot  = a / b\n",
        "exp   = a ** b"
      ],
      "execution_count": null,
      "outputs": []
    },
    {
      "cell_type": "code",
      "metadata": {
        "colab": {
          "base_uri": "https://localhost:8080/"
        },
        "id": "rIOdg97l7uhB",
        "outputId": "b19bd1cf-d5e0-4c68-c1ab-8b82638decc3"
      },
      "source": [
        "print(str(a) + ' +  ' + str(b) + ' = ' + str(total))\n",
        "print(str(a) + ' -  ' + str(b) + ' = ' + str(diff))\n",
        "print(str(a) + ' *  ' + str(b) + ' = ' + str(prod))\n",
        "print(str(a) + ' /  ' + str(b) + ' = ' + str(quot))\n",
        "print(str(a) + ' ** ' + str(b) + ' = ' + str(exp))"
      ],
      "execution_count": null,
      "outputs": [
        {
          "output_type": "stream",
          "text": [
            "123.456 +  78.9 = 202.356\n",
            "123.456 -  78.9 = 44.556\n",
            "123.456 *  78.9 = 9740.6784\n",
            "123.456 /  78.9 = 1.5647148288973383\n",
            "123.456 ** 78.9 = 1.0478827916671325e+165\n"
          ],
          "name": "stdout"
        }
      ]
    },
    {
      "cell_type": "markdown",
      "metadata": {
        "id": "QEfHgcuZ9dQA"
      },
      "source": [
        "# Leap year"
      ]
    },
    {
      "cell_type": "code",
      "metadata": {
        "colab": {
          "base_uri": "https://localhost:8080/"
        },
        "id": "QgI21NSo9e1H",
        "outputId": "299f927d-71f8-4c18-8ea4-cb34c6dd4a50"
      },
      "source": [
        "year = int (input(\"Entre com um ano: \"))\n",
        "isLeapYear = (year % 4 == 0)\n",
        "isLeapYear = isLeapYear and ((year % 100) != 0)\n",
        "isLeapYear = isLeapYear or  ((year % 400) == 0)\n",
        "print (isLeapYear)"
      ],
      "execution_count": 13,
      "outputs": [
        {
          "output_type": "stream",
          "text": [
            "Entre com um ano: 2000\n",
            "True\n"
          ],
          "name": "stdout"
        }
      ]
    }
  ]
}